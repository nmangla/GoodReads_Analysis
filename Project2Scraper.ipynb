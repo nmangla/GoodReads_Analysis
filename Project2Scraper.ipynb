{
 "cells": [
  {
   "cell_type": "code",
   "execution_count": 659,
   "metadata": {},
   "outputs": [],
   "source": [
    "from selenium import webdriver\n",
    "from selenium.webdriver.common.keys import Keys\n",
    "from selenium.webdriver.common.by import By\n",
    "from selenium.webdriver.support.ui import WebDriverWait \n",
    "from selenium.webdriver.support import expected_conditions as EC \n",
    "from selenium.common.exceptions import NoSuchElementException\n",
    "import chromedriver_binary\n",
    "import os\n",
    "import pandas as pd\n",
    "import numpy as np\n",
    "import ipynb.fs.full.Project2ScraperUtil as util\n",
    "import importlib as imlib\n",
    "import pprint as pprint"
   ]
  },
  {
   "cell_type": "code",
   "execution_count": 660,
   "metadata": {},
   "outputs": [
    {
     "data": {
      "text/plain": [
       "<module 'ipynb.fs.full.Project2ScraperUtil' (/Users/nmangla/Desktop/Metis_Course/SGP19_DS0/curriculum/project-02/project-02-introduction/Project2ScraperUtil.ipynb)>"
      ]
     },
     "execution_count": 660,
     "metadata": {},
     "output_type": "execute_result"
    }
   ],
   "source": [
    "imlib.reload(util)"
   ]
  },
  {
   "cell_type": "code",
   "execution_count": 661,
   "metadata": {},
   "outputs": [],
   "source": [
    "def getBookInfo(driver):\n",
    "    dictionary = {}\n",
    "    \n",
    "    # Get all information from book page\n",
    "    dictionary = util.getBookInfo(driver, dictionary)\n",
    "    if dictionary == None:\n",
    "        return None\n",
    "        \n",
    "    return dictionary"
   ]
  },
  {
   "cell_type": "code",
   "execution_count": 662,
   "metadata": {},
   "outputs": [],
   "source": [
    "def getBookGenresInfo(driver, dictionary):\n",
    "    # Get all genres of book\n",
    "    try:\n",
    "        genresButton = driver.find_element_by_xpath(\"//div[@class='stacked']/div[1]/div[1]/h2[1]/a[1]\")\n",
    "        genresButton.click()\n",
    "        waitForPage = WebDriverWait(driver, 10).until(EC.presence_of_element_located((By.CLASS_NAME,'leftContainer')))        \n",
    "        util.wait()\n",
    "        dictionary = util.getBookGenres(driver, dictionary)\n",
    "        \n",
    "        driver.back()\n",
    "        waitForPage = WebDriverWait(driver, 10).until(EC.presence_of_element_located((By.ID,'bookTitle')))        \n",
    "        util.wait()\n",
    "    except NoSuchElementException:\n",
    "        dictionary[util.getGenres()] = np.nan\n",
    "        dictionary[util.getGenresCount()] = 0\n",
    "        pass\n",
    "    \n",
    "    return dictionary"
   ]
  },
  {
   "cell_type": "code",
   "execution_count": 481,
   "metadata": {},
   "outputs": [],
   "source": [
    "# various options in pandas\n",
    "pd.set_option('display.max_columns', None)\n",
    "pd.set_option('display.max_rows', 25)\n",
    "pd.set_option('display.precision', 3)"
   ]
  },
  {
   "cell_type": "code",
   "execution_count": 482,
   "metadata": {},
   "outputs": [],
   "source": [
    "# Opening home page to login\n",
    "driver = webdriver.Chrome()\n",
    "driver.get('https://www.goodreads.com/')\n",
    "util.wait()"
   ]
  },
  {
   "cell_type": "code",
   "execution_count": 483,
   "metadata": {},
   "outputs": [
    {
     "name": "stdout",
     "output_type": "stream",
     "text": [
      "The dotenv extension is already loaded. To reload it, use:\n",
      "  %reload_ext dotenv\n"
     ]
    }
   ],
   "source": [
    "%load_ext dotenv\n",
    "%dotenv\n",
    "\n",
    "# Loading username and password from .env file\n",
    "EMAIL = os.environ.get('USERNAME')\n",
    "PASSWORD = os.environ.get('PASSWORD')"
   ]
  },
  {
   "cell_type": "code",
   "execution_count": 484,
   "metadata": {},
   "outputs": [],
   "source": [
    "# Filling username\n",
    "usernameForm = driver.find_element_by_id('userSignInFormEmail')\n",
    "usernameForm.send_keys(EMAIL)\n",
    "util.wait()"
   ]
  },
  {
   "cell_type": "code",
   "execution_count": 485,
   "metadata": {},
   "outputs": [],
   "source": [
    "# Filling password\n",
    "passwordForm=driver.find_element_by_id('user_password')\n",
    "passwordForm.send_keys(PASSWORD)\n",
    "util.wait()"
   ]
  },
  {
   "cell_type": "code",
   "execution_count": 486,
   "metadata": {},
   "outputs": [],
   "source": [
    "# Hitting Enter to login\n",
    "passwordForm.send_keys(Keys.RETURN)\n",
    "util.wait()"
   ]
  },
  {
   "cell_type": "code",
   "execution_count": 487,
   "metadata": {},
   "outputs": [],
   "source": [
    "# Going to list: Best Fantasy Books of the 21st Century\n",
    "driver.get('https://www.goodreads.com/list/show/88.Best_Fantasy_Books_of_the_21st_Century')\n",
    "util.wait()"
   ]
  },
  {
   "cell_type": "code",
   "execution_count": 706,
   "metadata": {},
   "outputs": [
    {
     "name": "stdout",
     "output_type": "stream",
     "text": [
      "Crimson Death (Anita Blake, Vampire Hunter #25)  Page: 23  Book No: 2257  Start No: 58\n",
      "Appending to file\n",
      "Success!\n",
      "Spellbound Falls (Spellbound Falls #1)  Page: 23  Book No: 2259  Start No: 59\n",
      "Appending to file\n",
      "Success!\n",
      "Half-Off Ragnarok (InCryptid, #3)  Page: 23  Book No: 2259  Start No: 60\n",
      "Appending to file\n",
      "Success!\n",
      "Miles Errant (Vorkosigan Omnibus, #4)  Page: 23  Book No: 2261  Start No: 61\n",
      "Something went wrong. Skipping this one\n",
      "Everlastin' (Everlastin', #1)  Page: 23  Book No: 2261  Start No: 62\n",
      "Appending to file\n",
      "Success!\n",
      "The Future Falls (Gale Women, #3)  Page: 23  Book No: 2261  Start No: 63\n",
      "Appending to file\n",
      "Success!\n",
      "Dusk Before Dawn (Everlastin' #2)  Page: 23  Book No: 2264  Start No: 64\n",
      "Appending to file\n",
      "Success!\n",
      "Blood Magick (The Cousins O'Dwyer Trilogy, #3)  Page: 23  Book No: 2264  Start No: 65\n",
      "Appending to file\n",
      "Success!\n",
      "The White Dragon (Chronicles of Sirkara, #2)  Page: 23  Book No: 2266  Start No: 66\n",
      "Appending to file\n",
      "Success!\n",
      "Midnight Blue-Light Special (InCryptid, #2)  Page: 23  Book No: 2266  Start No: 67\n",
      "Appending to file\n",
      "Success!\n",
      "Time Everlastin' (Everlastin', #5)  Page: 23  Book No: 2268  Start No: 68\n",
      "Appending to file\n",
      "Success!\n",
      "The Destroyer Goddess (Chronicles of Sirkara, #3)  Page: 23  Book No: 2268  Start No: 69\n",
      "Appending to file\n",
      "Success!\n",
      "Pocket Apocalypse (InCryptid, #4)  Page: 23  Book No: 2268  Start No: 70\n",
      "Appending to file\n",
      "Success!\n",
      "In Legend Born (Chronicles of Sirkara, #1)  Page: 23  Book No: 2271  Start No: 71\n",
      "Appending to file\n",
      "Success!\n",
      "A Local Habitation (October Daye, #2)  Page: 23  Book No: 2272  Start No: 72\n",
      "Appending to file\n",
      "Success!\n",
      "Magic for Nothing (InCryptid, #6)  Page: 23  Book No: 2273  Start No: 73\n",
      "Appending to file\n",
      "Success!\n",
      "The Reluctant Vampire (Argeneau, #15)  Page: 23  Book No: 2274  Start No: 74\n",
      "Appending to file\n",
      "Success!\n",
      "The Turn: The Hollows Begins with Death (The Hollows #0.1)  Page: 23  Book No: 2275  Start No: 75\n",
      "Something went wrong. Skipping this one\n",
      "The Walking Dead, Book One (The Walking Dead #1-12)  Page: 23  Book No: 2276  Start No: 76\n",
      "Something went wrong. Skipping this one\n",
      "Sixth Grave on the Edge (Charley Davidson, #6)  Page: 23  Book No: 2277  Start No: 77\n",
      "Appending to file\n",
      "Success!\n",
      "Seventh Grave and No Body (Charley Davidson, #7)  Page: 23  Book No: 2278  Start No: 78\n",
      "Appending to file\n",
      "Success!\n",
      "The Immortal Hunter (Argeneau #11; Rogue Hunter #2)  Page: 23  Book No: 2279  Start No: 79\n",
      "Appending to file\n",
      "Success!\n",
      "Eighth Grave After Dark (Charley Davidson, #8)  Page: 23  Book No: 2279  Start No: 80\n",
      "Appending to file\n",
      "Success!\n",
      "The Dirt on Ninth Grave (Charley Davidson, #9)  Page: 23  Book No: 2281  Start No: 81\n",
      "Appending to file\n",
      "Success!\n",
      "Christmas in Transylvania (Deadly Angels, #4.5)  Page: 23  Book No: 2282  Start No: 82\n",
      "Something went wrong. Skipping this one\n",
      "A Shiver of Light (Merry Gentry #9)  Page: 23  Book No: 2282  Start No: 83\n",
      "Appending to file\n",
      "Success!\n",
      "Visions (Cainsville, #2)  Page: 23  Book No: 2284  Start No: 84\n",
      "Appending to file\n",
      "Success!\n"
     ]
    },
    {
     "ename": "NoSuchElementException",
     "evalue": "Message: no such element: Unable to locate element: {\"method\":\"xpath\",\"selector\":\"//div[@id='all_votes']/table[1]/tbody[1]/tr[85]\"}\n  (Session info: chrome=75.0.3770.142)\n  (Driver info: chromedriver=2.38.552518 (183d19265345f54ce39cbb94cf81ba5f15905011),platform=Mac OS X 10.12.2 x86_64)\n",
     "output_type": "error",
     "traceback": [
      "\u001b[0;31m---------------------------------------------------------------------------\u001b[0m",
      "\u001b[0;31mNoSuchElementException\u001b[0m                    Traceback (most recent call last)",
      "\u001b[0;32m<ipython-input-706-69b8340b1c5b>\u001b[0m in \u001b[0;36m<module>\u001b[0;34m()\u001b[0m\n\u001b[1;32m      7\u001b[0m     \u001b[0;31m# Find book\u001b[0m\u001b[0;34m\u001b[0m\u001b[0;34m\u001b[0m\u001b[0;34m\u001b[0m\u001b[0m\n\u001b[1;32m      8\u001b[0m     \u001b[0mxpath\u001b[0m \u001b[0;34m=\u001b[0m \u001b[0;34m\"//div[@id='all_votes']/table[1]/tbody[1]/tr[\"\u001b[0m \u001b[0;34m+\u001b[0m \u001b[0mstr\u001b[0m\u001b[0;34m(\u001b[0m\u001b[0mstartingPoint\u001b[0m\u001b[0;34m)\u001b[0m \u001b[0;34m+\u001b[0m \u001b[0;34m\"]\"\u001b[0m\u001b[0;34m\u001b[0m\u001b[0;34m\u001b[0m\u001b[0m\n\u001b[0;32m----> 9\u001b[0;31m     \u001b[0mb\u001b[0m \u001b[0;34m=\u001b[0m \u001b[0mdriver\u001b[0m\u001b[0;34m.\u001b[0m\u001b[0mfind_element_by_xpath\u001b[0m\u001b[0;34m(\u001b[0m\u001b[0mxpath\u001b[0m\u001b[0;34m)\u001b[0m\u001b[0;34m\u001b[0m\u001b[0;34m\u001b[0m\u001b[0m\n\u001b[0m\u001b[1;32m     10\u001b[0m     \u001b[0mbookNumber\u001b[0m \u001b[0;34m=\u001b[0m \u001b[0mint\u001b[0m\u001b[0;34m(\u001b[0m\u001b[0mb\u001b[0m\u001b[0;34m.\u001b[0m\u001b[0mfind_element_by_xpath\u001b[0m\u001b[0;34m(\u001b[0m\u001b[0;34m\".//td[1]\"\u001b[0m\u001b[0;34m)\u001b[0m\u001b[0;34m.\u001b[0m\u001b[0mtext\u001b[0m\u001b[0;34m)\u001b[0m\u001b[0;34m\u001b[0m\u001b[0;34m\u001b[0m\u001b[0m\n\u001b[1;32m     11\u001b[0m \u001b[0;34m\u001b[0m\u001b[0m\n",
      "\u001b[0;32m/anaconda3/envs/metis/lib/python3.6/site-packages/selenium/webdriver/remote/webdriver.py\u001b[0m in \u001b[0;36mfind_element_by_xpath\u001b[0;34m(self, xpath)\u001b[0m\n\u001b[1;32m    392\u001b[0m             \u001b[0melement\u001b[0m \u001b[0;34m=\u001b[0m \u001b[0mdriver\u001b[0m\u001b[0;34m.\u001b[0m\u001b[0mfind_element_by_xpath\u001b[0m\u001b[0;34m(\u001b[0m\u001b[0;34m'//div/td[1]'\u001b[0m\u001b[0;34m)\u001b[0m\u001b[0;34m\u001b[0m\u001b[0;34m\u001b[0m\u001b[0m\n\u001b[1;32m    393\u001b[0m         \"\"\"\n\u001b[0;32m--> 394\u001b[0;31m         \u001b[0;32mreturn\u001b[0m \u001b[0mself\u001b[0m\u001b[0;34m.\u001b[0m\u001b[0mfind_element\u001b[0m\u001b[0;34m(\u001b[0m\u001b[0mby\u001b[0m\u001b[0;34m=\u001b[0m\u001b[0mBy\u001b[0m\u001b[0;34m.\u001b[0m\u001b[0mXPATH\u001b[0m\u001b[0;34m,\u001b[0m \u001b[0mvalue\u001b[0m\u001b[0;34m=\u001b[0m\u001b[0mxpath\u001b[0m\u001b[0;34m)\u001b[0m\u001b[0;34m\u001b[0m\u001b[0;34m\u001b[0m\u001b[0m\n\u001b[0m\u001b[1;32m    395\u001b[0m \u001b[0;34m\u001b[0m\u001b[0m\n\u001b[1;32m    396\u001b[0m     \u001b[0;32mdef\u001b[0m \u001b[0mfind_elements_by_xpath\u001b[0m\u001b[0;34m(\u001b[0m\u001b[0mself\u001b[0m\u001b[0;34m,\u001b[0m \u001b[0mxpath\u001b[0m\u001b[0;34m)\u001b[0m\u001b[0;34m:\u001b[0m\u001b[0;34m\u001b[0m\u001b[0;34m\u001b[0m\u001b[0m\n",
      "\u001b[0;32m/anaconda3/envs/metis/lib/python3.6/site-packages/selenium/webdriver/remote/webdriver.py\u001b[0m in \u001b[0;36mfind_element\u001b[0;34m(self, by, value)\u001b[0m\n\u001b[1;32m    976\u001b[0m         return self.execute(Command.FIND_ELEMENT, {\n\u001b[1;32m    977\u001b[0m             \u001b[0;34m'using'\u001b[0m\u001b[0;34m:\u001b[0m \u001b[0mby\u001b[0m\u001b[0;34m,\u001b[0m\u001b[0;34m\u001b[0m\u001b[0;34m\u001b[0m\u001b[0m\n\u001b[0;32m--> 978\u001b[0;31m             'value': value})['value']\n\u001b[0m\u001b[1;32m    979\u001b[0m \u001b[0;34m\u001b[0m\u001b[0m\n\u001b[1;32m    980\u001b[0m     \u001b[0;32mdef\u001b[0m \u001b[0mfind_elements\u001b[0m\u001b[0;34m(\u001b[0m\u001b[0mself\u001b[0m\u001b[0;34m,\u001b[0m \u001b[0mby\u001b[0m\u001b[0;34m=\u001b[0m\u001b[0mBy\u001b[0m\u001b[0;34m.\u001b[0m\u001b[0mID\u001b[0m\u001b[0;34m,\u001b[0m \u001b[0mvalue\u001b[0m\u001b[0;34m=\u001b[0m\u001b[0;32mNone\u001b[0m\u001b[0;34m)\u001b[0m\u001b[0;34m:\u001b[0m\u001b[0;34m\u001b[0m\u001b[0;34m\u001b[0m\u001b[0m\n",
      "\u001b[0;32m/anaconda3/envs/metis/lib/python3.6/site-packages/selenium/webdriver/remote/webdriver.py\u001b[0m in \u001b[0;36mexecute\u001b[0;34m(self, driver_command, params)\u001b[0m\n\u001b[1;32m    319\u001b[0m         \u001b[0mresponse\u001b[0m \u001b[0;34m=\u001b[0m \u001b[0mself\u001b[0m\u001b[0;34m.\u001b[0m\u001b[0mcommand_executor\u001b[0m\u001b[0;34m.\u001b[0m\u001b[0mexecute\u001b[0m\u001b[0;34m(\u001b[0m\u001b[0mdriver_command\u001b[0m\u001b[0;34m,\u001b[0m \u001b[0mparams\u001b[0m\u001b[0;34m)\u001b[0m\u001b[0;34m\u001b[0m\u001b[0;34m\u001b[0m\u001b[0m\n\u001b[1;32m    320\u001b[0m         \u001b[0;32mif\u001b[0m \u001b[0mresponse\u001b[0m\u001b[0;34m:\u001b[0m\u001b[0;34m\u001b[0m\u001b[0;34m\u001b[0m\u001b[0m\n\u001b[0;32m--> 321\u001b[0;31m             \u001b[0mself\u001b[0m\u001b[0;34m.\u001b[0m\u001b[0merror_handler\u001b[0m\u001b[0;34m.\u001b[0m\u001b[0mcheck_response\u001b[0m\u001b[0;34m(\u001b[0m\u001b[0mresponse\u001b[0m\u001b[0;34m)\u001b[0m\u001b[0;34m\u001b[0m\u001b[0;34m\u001b[0m\u001b[0m\n\u001b[0m\u001b[1;32m    322\u001b[0m             response['value'] = self._unwrap_value(\n\u001b[1;32m    323\u001b[0m                 response.get('value', None))\n",
      "\u001b[0;32m/anaconda3/envs/metis/lib/python3.6/site-packages/selenium/webdriver/remote/errorhandler.py\u001b[0m in \u001b[0;36mcheck_response\u001b[0;34m(self, response)\u001b[0m\n\u001b[1;32m    240\u001b[0m                 \u001b[0malert_text\u001b[0m \u001b[0;34m=\u001b[0m \u001b[0mvalue\u001b[0m\u001b[0;34m[\u001b[0m\u001b[0;34m'alert'\u001b[0m\u001b[0;34m]\u001b[0m\u001b[0;34m.\u001b[0m\u001b[0mget\u001b[0m\u001b[0;34m(\u001b[0m\u001b[0;34m'text'\u001b[0m\u001b[0;34m)\u001b[0m\u001b[0;34m\u001b[0m\u001b[0;34m\u001b[0m\u001b[0m\n\u001b[1;32m    241\u001b[0m             \u001b[0;32mraise\u001b[0m \u001b[0mexception_class\u001b[0m\u001b[0;34m(\u001b[0m\u001b[0mmessage\u001b[0m\u001b[0;34m,\u001b[0m \u001b[0mscreen\u001b[0m\u001b[0;34m,\u001b[0m \u001b[0mstacktrace\u001b[0m\u001b[0;34m,\u001b[0m \u001b[0malert_text\u001b[0m\u001b[0;34m)\u001b[0m\u001b[0;34m\u001b[0m\u001b[0;34m\u001b[0m\u001b[0m\n\u001b[0;32m--> 242\u001b[0;31m         \u001b[0;32mraise\u001b[0m \u001b[0mexception_class\u001b[0m\u001b[0;34m(\u001b[0m\u001b[0mmessage\u001b[0m\u001b[0;34m,\u001b[0m \u001b[0mscreen\u001b[0m\u001b[0;34m,\u001b[0m \u001b[0mstacktrace\u001b[0m\u001b[0;34m)\u001b[0m\u001b[0;34m\u001b[0m\u001b[0;34m\u001b[0m\u001b[0m\n\u001b[0m\u001b[1;32m    243\u001b[0m \u001b[0;34m\u001b[0m\u001b[0m\n\u001b[1;32m    244\u001b[0m     \u001b[0;32mdef\u001b[0m \u001b[0m_value_or_default\u001b[0m\u001b[0;34m(\u001b[0m\u001b[0mself\u001b[0m\u001b[0;34m,\u001b[0m \u001b[0mobj\u001b[0m\u001b[0;34m,\u001b[0m \u001b[0mkey\u001b[0m\u001b[0;34m,\u001b[0m \u001b[0mdefault\u001b[0m\u001b[0;34m)\u001b[0m\u001b[0;34m:\u001b[0m\u001b[0;34m\u001b[0m\u001b[0;34m\u001b[0m\u001b[0m\n",
      "\u001b[0;31mNoSuchElementException\u001b[0m: Message: no such element: Unable to locate element: {\"method\":\"xpath\",\"selector\":\"//div[@id='all_votes']/table[1]/tbody[1]/tr[85]\"}\n  (Session info: chrome=75.0.3770.142)\n  (Driver info: chromedriver=2.38.552518 (183d19265345f54ce39cbb94cf81ba5f15905011),platform=Mac OS X 10.12.2 x86_64)\n"
     ]
    }
   ],
   "source": [
    "page = 23\n",
    "startingPoint = 58\n",
    "\n",
    "# Iterate through books and store information in JSON file\n",
    "while startingPoint <= 100:\n",
    "    \n",
    "    # Find book\n",
    "    xpath = \"//div[@id='all_votes']/table[1]/tbody[1]/tr[\" + str(startingPoint) + \"]\"\n",
    "    b = driver.find_element_by_xpath(xpath)\n",
    "    bookNumber = int(b.find_element_by_xpath(\".//td[1]\").text)\n",
    "    \n",
    "    book = b.find_element_by_xpath(\".//td[3]/a\")\n",
    "    print(book.text, ' Page:', page, ' Book No:', bookNumber, ' Start No:', startingPoint)\n",
    "    \n",
    "    # Click on book, wait for it to load. Then wait some more\n",
    "    book.click()    \n",
    "    waitForPage = WebDriverWait(driver, 10).until(EC.presence_of_element_located((By.ID,'bookTitle')))        \n",
    "    util.wait()  \n",
    "    \n",
    "    dictionary = getBookInfo(driver)\n",
    "    if dictionary == None:\n",
    "        print(\"Something went wrong. Skipping this one\")\n",
    "    else:\n",
    "        dictionary = getBookGenresInfo(driver, dictionary)\n",
    "        print(\"Appending to file\")\n",
    "        result = util.appendToFile(dictionary)\n",
    "        if result == False:\n",
    "            print(\"Something messed up!\")\n",
    "            break\n",
    "        else:\n",
    "            print(\"Success!\")\n",
    "    \n",
    "    driver.back()\n",
    "    waitForPage = WebDriverWait(driver, 10).until(EC.presence_of_element_located((By.ID,'all_votes')))        \n",
    "    util.wait()\n",
    "    startingPoint += 1"
   ]
  },
  {
   "cell_type": "code",
   "execution_count": 707,
   "metadata": {},
   "outputs": [],
   "source": [
    "df = util.readFile()"
   ]
  },
  {
   "cell_type": "code",
   "execution_count": 708,
   "metadata": {},
   "outputs": [
    {
     "data": {
      "text/html": [
       "<div>\n",
       "<style scoped>\n",
       "    .dataframe tbody tr th:only-of-type {\n",
       "        vertical-align: middle;\n",
       "    }\n",
       "\n",
       "    .dataframe tbody tr th {\n",
       "        vertical-align: top;\n",
       "    }\n",
       "\n",
       "    .dataframe thead th {\n",
       "        text-align: right;\n",
       "    }\n",
       "</style>\n",
       "<table border=\"1\" class=\"dataframe\">\n",
       "  <thead>\n",
       "    <tr style=\"text-align: right;\">\n",
       "      <th></th>\n",
       "      <th>title</th>\n",
       "      <th>series</th>\n",
       "      <th>seriesPosition</th>\n",
       "      <th>seriesNumBooks</th>\n",
       "      <th>author</th>\n",
       "      <th>authorNumFollowers</th>\n",
       "      <th>rating</th>\n",
       "      <th>numRatings</th>\n",
       "      <th>numReviews</th>\n",
       "      <th>numOneStars</th>\n",
       "      <th>numTwoStars</th>\n",
       "      <th>numThreeStars</th>\n",
       "      <th>numFourStars</th>\n",
       "      <th>numFiveStars</th>\n",
       "      <th>percOneStars</th>\n",
       "      <th>percTwoStars</th>\n",
       "      <th>percThreeStars</th>\n",
       "      <th>percFourStars</th>\n",
       "      <th>percFiveStars</th>\n",
       "      <th>numPages</th>\n",
       "      <th>publishDate</th>\n",
       "      <th>isbn</th>\n",
       "      <th>isbn13</th>\n",
       "      <th>asin</th>\n",
       "      <th>publisher</th>\n",
       "      <th>numAwards</th>\n",
       "      <th>awards</th>\n",
       "      <th>genres</th>\n",
       "      <th>genresCount</th>\n",
       "    </tr>\n",
       "  </thead>\n",
       "  <tbody>\n",
       "    <tr>\n",
       "      <th>2137</th>\n",
       "      <td>Visions</td>\n",
       "      <td>Cainsville</td>\n",
       "      <td>2</td>\n",
       "      <td>5</td>\n",
       "      <td>Kelley Armstrong</td>\n",
       "      <td>26082</td>\n",
       "      <td>4.25</td>\n",
       "      <td>10238</td>\n",
       "      <td>909</td>\n",
       "      <td>41</td>\n",
       "      <td>167</td>\n",
       "      <td>1282</td>\n",
       "      <td>4432</td>\n",
       "      <td>4316</td>\n",
       "      <td>0</td>\n",
       "      <td>1</td>\n",
       "      <td>12</td>\n",
       "      <td>43</td>\n",
       "      <td>42</td>\n",
       "      <td>448</td>\n",
       "      <td>2014-08-14 00:00:00</td>\n",
       "      <td>0525953051</td>\n",
       "      <td>9.781e+12</td>\n",
       "      <td>NaN</td>\n",
       "      <td>Dutton</td>\n",
       "      <td>0</td>\n",
       "      <td>NaN</td>\n",
       "      <td>['to-read', 'urban-fantasy', 'fantasy', 'paran...</td>\n",
       "      <td>[405, 323, 282, 223, 189, 137, 119, 91, 91, 89...</td>\n",
       "    </tr>\n",
       "  </tbody>\n",
       "</table>\n",
       "</div>"
      ],
      "text/plain": [
       "        title      series  seriesPosition  seriesNumBooks            author  \\\n",
       "2137  Visions  Cainsville               2               5  Kelley Armstrong   \n",
       "\n",
       "      authorNumFollowers  rating  numRatings  numReviews  numOneStars  \\\n",
       "2137               26082    4.25       10238         909           41   \n",
       "\n",
       "      numTwoStars  numThreeStars  numFourStars  numFiveStars  percOneStars  \\\n",
       "2137          167           1282          4432          4316             0   \n",
       "\n",
       "      percTwoStars  percThreeStars  percFourStars  percFiveStars  numPages  \\\n",
       "2137             1              12             43             42       448   \n",
       "\n",
       "              publishDate        isbn     isbn13 asin publisher  numAwards  \\\n",
       "2137  2014-08-14 00:00:00  0525953051  9.781e+12  NaN    Dutton          0   \n",
       "\n",
       "     awards                                             genres  \\\n",
       "2137    NaN  ['to-read', 'urban-fantasy', 'fantasy', 'paran...   \n",
       "\n",
       "                                            genresCount  \n",
       "2137  [405, 323, 282, 223, 189, 137, 119, 91, 91, 89...  "
      ]
     },
     "execution_count": 708,
     "metadata": {},
     "output_type": "execute_result"
    }
   ],
   "source": [
    "df.tail(1)"
   ]
  },
  {
   "cell_type": "code",
   "execution_count": null,
   "metadata": {},
   "outputs": [],
   "source": []
  }
 ],
 "metadata": {
  "kernelspec": {
   "display_name": "Python 3",
   "language": "python",
   "name": "python3"
  },
  "language_info": {
   "codemirror_mode": {
    "name": "ipython",
    "version": 3
   },
   "file_extension": ".py",
   "mimetype": "text/x-python",
   "name": "python",
   "nbconvert_exporter": "python",
   "pygments_lexer": "ipython3",
   "version": "3.6.9"
  }
 },
 "nbformat": 4,
 "nbformat_minor": 2
}
